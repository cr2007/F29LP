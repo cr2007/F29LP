{
 "cells": [
  {
   "cell_type": "code",
   "execution_count": null,
   "id": "3de0c6ee",
   "metadata": {},
   "outputs": [],
   "source": []
  },
  {
   "cell_type": "markdown",
   "id": "64a4419e",
   "metadata": {},
   "source": [
    "# CW2.1:  Compiler Front End for FUNC\n",
    "\n",
    "Your overall task is to develop a compiler for the programming language given below, called ``FUNC``.\n",
    "This overall task is composed of two parts:\n",
    "\n",
    "- **CW2 Part I** is concerned with the implementation of the compiler’s front end (this document). This is worth 10 marks.\n",
    "- **CW2 Part II** is concerned with the implementation of the compiler’s back end. This is also worth 10 marks and released later. "
   ]
  },
  {
   "cell_type": "markdown",
   "id": "ef45ea05",
   "metadata": {},
   "source": [
    "**CW 2 Part I** consists of two parts: \n",
    "- Writing a lexer (4 points)\n",
    "- Writing a parser (6 points)\n",
    "\n",
    "If you have any questions, use the labs slots or ask Kathrin & the Lab Helpers."
   ]
  },
  {
   "cell_type": "markdown",
   "id": "d59f7dae",
   "metadata": {},
   "source": [
    "**IMPORTANT** \n",
    "Compiler errors: All code you submit must compile. Programs that do not compile will receive an automatic zero.\n",
    "- If you are having trouble getting your assignment to compile, please visit consulting hours.\n",
    "- If you run out of time, it is better to comment out the parts that do not compile, than hand in a more complete file that does not compile."
   ]
  },
  {
   "cell_type": "markdown",
   "id": "c050032c",
   "metadata": {},
   "source": [
    "## Testing \n",
    "\n",
    "At the end of this file you'll find example program you can test your programs with. \n",
    "**You will want to write additional tests for intermediate steps.**\n",
    "\n",
    "You can easily write tests to ensure that your program behaves as expected as follows:"
   ]
  },
  {
   "cell_type": "code",
   "execution_count": null,
   "id": "89e795f8",
   "metadata": {},
   "outputs": [],
   "source": [
    "assert ([2;3;5;5;2;1] (* Expected result *) \n",
    "= [2;3;5] @ [5;2;1] (* Calling your function *) ) ;; "
   ]
  },
  {
   "cell_type": "markdown",
   "id": "22b504b2",
   "metadata": {},
   "source": [
    "**The plagarism policy does not hold for this part of the coursework. \n",
    "Please feel free to share your tests with other students in the course.**"
   ]
  },
  {
   "cell_type": "markdown",
   "id": "cf5fedd2",
   "metadata": {},
   "source": [
    "## Submission\n",
    "\n",
    "Please submit a .zip file containing this notebook and the file ``CW/func.mll`` on Canvas until **Fri, 24th March**. \n",
    "Please ensure that you do not change the name or signature of the functions ``parse_exp``, ``parse_program``, etc. \n",
    "\n",
    "**Late Submissions.** See Canvas for F29LP's late-submission policy. \n",
    "\n",
    "**Plagarism.** All code (except tests) is subject to the course's plagarism policy. \n",
    "\n",
    "Happy coding!"
   ]
  },
  {
   "cell_type": "markdown",
   "id": "9b7dc909",
   "metadata": {},
   "source": [
    "## The Source Language: FUNC\n",
    "\n",
    "The ``FUNC`` language has the following syntax: \n",
    "\n",
    "```\n",
    "<program> ::= <methods> ",
    "\n",
    "<methods> ::= <method>;[<methods>] ",
    "\n",
    "<method> ::= method <id>([<args>]) [vars <args>] \n",
    "\tbegin <statements> [return <id>;] endmethod\n",
    "<args> ::= <id>[,<args>] \n",
    "<statements> ::= <statement>;[<statements>] ",
    "\n",
    "<statement> ::= <assign> | <if> | <while> | <rw>\n",
    "<rw> ::= read <id> | write <exp>\n",
    "<assign> ::= <id> := <exp>\n",
    "<if> ::= if  <cond> then <statements> [else <statements>] endif ",
    "\n",
    "<while> ::= while <cond> begin <statements> endwhile\n",
    "<cond> ::= <bop> ( [<exps>] ) ",
    "\n",
    "<bop> ::= less | lessEq | eq | nEq ",
    "\n",
    "<exps> ::= <exp> [,<exps>] ",
    "\n",
    "<exp> ::= <id>[( [<exps>] )] | <int> ",
    "\n",
    "<int> is a natural number (no leading zeroes) ",
    "\n",
    "<id> is any string starting with a character followed by characters or numbers (that is not already a keyword)\n",
    "```\n",
    "\n",
    "- Each program must have a function called ``main`` with no arguments and no return value. \n",
    "- All other functions may have an optional return value. If a function does not have a return value, they implicitly return `0`.\n",
    "- You should support the following built-in functions - assume they have been defined; they accept two integers and return an integer:\n",
    "     - ``plus``, which adds its arguments;\n",
    "     - ``times``, which multiplies its arguments;\n",
    "     - ``minus``, which subtracts its arguments;\n",
    "     - ``divide``, which divides its arguments.\n",
    "- All the boolean operators (``less``, ``lessEq``, ``eq``, ``nEq``) are also binary, i.e. take two arguments.\n",
    "- The ``read`` command assumes that the given variable is an ``int`` variable.\n",
    "\n",
    "##### Example \n",
    "\n",
    "The following example illustrates a valid FUNC program (more examples later in the document)\n",
    "\n",
    "```\n",
    "method pow(x, y) vars i, res\n",
    "begin\n",
    "    res := x; ",
    "\n",
    "    i := 1; ",
    "\n",
    "    while less(i,y)\n",
    "    begin\n",
    "        res := times(res,x);\n",
    "        i := plus(i,1); \n",
    "    endwhile;\n",
    "    write res;\n",
    "    return res;\n",
    "endmethod;\n",
    "\n",
    "method main() vars a, b, x\n",
    "begin\n",
    "    a := 5; b := 2; ",
    "\n",
    "    x := pow(b,a);\n",
    "    if  eq(x,32) then write 1; else write 0; endif; \n",
    "endmethod;\n",
    "```"
   ]
  },
  {
   "cell_type": "markdown",
   "id": "bc72e9d7",
   "metadata": {},
   "source": [
    "## Part 1: Lexing (4 Points)"
   ]
  },
  {
   "cell_type": "markdown",
   "id": "c3ebdf60",
   "metadata": {},
   "source": [
    "Produce a lexer file into ``CW/func.mll`` together with a suitable representation of tokens."
   ]
  },
  {
   "cell_type": "markdown",
   "id": "bc36607d",
   "metadata": {},
   "source": [
    "**IMPORTANT** Jupyter Notebooks automatically saves some output information. \n",
    "Each time you change the ``func.mll`` file and want to re-run the following commands, \n",
    "first choose in the menu Kernel -> Restart & Clear Output to ensure your changed file is used."
   ]
  },
  {
   "cell_type": "code",
   "execution_count": null,
   "id": "7be51325",
   "metadata": {},
   "outputs": [],
   "source": [
    "#require \"jupyter.notebook\" ;;\n",
    "open Jupyter_notebook ;;"
   ]
  },
  {
   "cell_type": "code",
   "execution_count": null,
   "id": "7a940ccc",
   "metadata": {},
   "outputs": [],
   "source": [
    "(* Run the lexer generator *)\n",
    "Process.sh \"ocamllex func.mll\";;\n",
    "\n",
    "(* Compile and load the file produced by the lexer *)\n",
    "Process.sh \"ocamlc -c func.ml\";;\n",
    "#load \"func.cmo\";;\n",
    "\n",
    "(* Convert the buffer into a list for further processing. *)\n",
    "let rec stream_to_list buffer = \n",
    "    match Func.token buffer with \n",
    "    | EOF -> []\n",
    "    | x -> x :: stream_to_list buffer"
   ]
  },
  {
   "cell_type": "code",
   "execution_count": null,
   "id": "0f9437fb",
   "metadata": {},
   "outputs": [],
   "source": [
    "(*\n",
    "You can test your lexer here. \n",
    "See below the code for lexing program ex1.\n",
    "You will want to test your lexer with more code snippets!\n",
    "*)\n",
    "\n",
    "open Func\n",
    "(* let res = stream_to_list (Lexing.from_string (* Insert example program *)) *)"
   ]
  },
  {
   "cell_type": "markdown",
   "id": "4af2b3e2",
   "metadata": {},
   "source": [
    "## Part 2: Parsing (6 Points)"
   ]
  },
  {
   "cell_type": "markdown",
   "id": "44cbc00a",
   "metadata": {},
   "source": [
    "Below you can see an abstract grammar for the language you've seen before."
   ]
  },
  {
   "cell_type": "code",
   "execution_count": null,
   "id": "21b8c168",
   "metadata": {},
   "outputs": [],
   "source": [
    "type exp = Numb of int | Id of string | App of string * exp list\n",
    "\n",
    "type bop = Less | LessEq | Eq | NEq \n",
    "type cond = C of bop * exp * exp\n",
    "\n",
    "type statement =\n",
    "  Assign of string * exp\n",
    "| Read of string \n",
    "| Write of exp \n",
    "| If of cond * statement list\n",
    "| Ite of cond * statement list * statement list\n",
    "| While of cond * statement list\n",
    "\n",
    "type mmethod = M of string (* name of function *)\n",
    "                * string list (* arguments *)\n",
    "                * string list (* declarations *) \n",
    "                * statement list (* function body *)\n",
    "                * string option (* possible return value value *)\n",
    "\n",
    "type program = P of mmethod list"
   ]
  },
  {
   "cell_type": "markdown",
   "id": "df7665a4",
   "metadata": {},
   "source": [
    "Write a recursive-descent parser for ``FUNC``.\n",
    "Your parser should contain at least: \n",
    "- a function ``parse_exp : token list -> exp * token list``\n",
    "- a function ``parse_cond : token list -> cond * token list``\n",
    "- a function ``parse_statement : token list -> statement * token list``\n",
    "- a function ``parse_program : program -> statement * token list``\n",
    "\n",
    "You will require more functions. \n",
    "You can get partial points by providing e.g. only ``parse_exp``. \n",
    "\n",
    "**Hints:** \n",
    "- Your parser does **not** have to ensure that variables, functions, the ``main`` function etc. exists or functions are applied to the right number of arguments.\n",
    "- You will want to test your program step-by-step, e.g. test that ``parse_exp`` runs as expected before writing ``parse_cond``. "
   ]
  },
  {
   "cell_type": "code",
   "execution_count": null,
   "id": "2454acd9",
   "metadata": {},
   "outputs": [],
   "source": [
    "exception SyntaxError of string\n",
    "open List\n",
    "\n",
    "(* Optional:\n",
    "   You might want to write a function to print tokens. \n",
    "   Comment out if not needed.  *) \n",
    "      \n",
    "let print_token (t : Func.token) : string = match t with \n",
    " | _ -> \"TO IMPLEMENT\" \n",
    "\n",
    "let rec print_list (s :  Func.token list) = match s with \n",
    "  | [] -> \"\"\n",
    "  | x :: xs -> String.cat (print_token x) (String.cat \" \" (print_list xs))"
   ]
  },
  {
   "cell_type": "code",
   "execution_count": null,
   "id": "fb9da115",
   "metadata": {},
   "outputs": [],
   "source": [
    "(* Optional helper functions *)\n",
    "let parse_id xs : string * token list = match xs with \n",
    " | ID x :: xs' -> (x, xs')\n",
    " | _ -> raise (SyntaxError \"Not an identifier.\")\n",
    "  \n",
    "let parse_token (x : token) (xs : token list) = match xs with \n",
    " | y :: ys -> if (x == y) then ys \n",
    "                 else raise (SyntaxError (String.cat \"Token expected: \"(String.cat (print_token x) (print_list xs) )))\n",
    " | _ -> raise (SyntaxError (String.cat \"Token expected: \"(String.cat (print_token x) (print_list xs) ))) "
   ]
  },
  {
   "cell_type": "code",
   "execution_count": null,
   "id": "c0c20c16",
   "metadata": {},
   "outputs": [],
   "source": [
    "let rec parse_exp (ts : token list) : exp * token list = \n",
    "    raise (SyntaxError \"Not implemented yet\")"
   ]
  },
  {
   "cell_type": "code",
   "execution_count": null,
   "id": "6e8aff53",
   "metadata": {},
   "outputs": [],
   "source": [
    "let parse_cond (ts : token list) : cond * token list =  \n",
    "    raise (SyntaxError \"Not implemented yet\")"
   ]
  },
  {
   "cell_type": "code",
   "execution_count": null,
   "id": "2f72bd4d",
   "metadata": {},
   "outputs": [],
   "source": [
    "let rec parse_statement (ts : token list) : statement * token list = \n",
    "    raise (SyntaxError \"Not implemented yet\")"
   ]
  },
  {
   "cell_type": "code",
   "execution_count": null,
   "id": "00f14d36",
   "metadata": {},
   "outputs": [],
   "source": [
    "let parse_program (ts: token list) : program * token list =\n",
    "    raise (SyntaxError \"Not implemented yet\")"
   ]
  },
  {
   "cell_type": "markdown",
   "id": "860446cd",
   "metadata": {},
   "source": [
    "## Appendix - Example Programs"
   ]
  },
  {
   "cell_type": "code",
   "execution_count": null,
   "id": "4a6d5feb",
   "metadata": {},
   "outputs": [],
   "source": [
    "let ex1 = \"method pow(x, y) vars i, res\n",
    "begin\n",
    "\n",
    "\tres := x;\n",
    "\ti := 1;\n",
    "\twhile less(i,y)\n",
    "\tbegin\n",
    "\t\tres := times(res,x);\n",
    "\t\ti := plus(i,1);\n",
    "        endwhile;\n",
    "\twrite res;\n",
    "\treturn res;\n",
    "\n",
    "endmethod;\n",
    "\n",
    "method main() vars a, b, x\n",
    "begin\n",
    "\n",
    "\ta := 5;\n",
    "\tb := 2;\n",
    "\tx := pow(b,a);\n",
    "\tif eq(x,32)\n",
    "\t\t then write 1;\n",
    "\telse\n",
    "\t\twrite 0;\n",
    "\tendif;\n",
    "\n",
    "endmethod;\n",
    "\"    \n",
    "\n",
    "let ex2 = \"method pow(x,y) vars i, res,w\n",
    "begin\n",
    "\n",
    "\tres := x(da,da(1,2,m(1,1)),1);\n",
    "\ti := 2;\n",
    "\tif eq(x,32) then \n",
    "\t\twrite 1;\n",
    "\t\tread a;\n",
    "\telse\n",
    "\t\tb := 11;\n",
    "\tendif;\n",
    "\twhile less(i,y)\n",
    "\tbegin\n",
    "\t\tres := times(res,x);\n",
    "\t\ti := plus(i,1);\n",
    "        endwhile;\n",
    "\twrite res;\n",
    "\treturn res;\n",
    "\n",
    "endmethod;\n",
    "\n",
    "method main() vars a, b, x\n",
    "begin\n",
    "\n",
    "\ta := 5; \n",
    "\tb := 2;\n",
    "\tx := pow(b,a);\n",
    "\tif eq(x,32)\n",
    "\t\t then write 1; \n",
    "\telse \n",
    "\t\twrite 0;\n",
    "\tendif; \n",
    "endmethod;\"\n",
    "\n",
    "let ex3 = \"method main() vars inp, res\n",
    "begin\n",
    "read inp;\n",
    "res:=0;\n",
    "while less(0,inp)\n",
    "begin\n",
    "res := plus(res,inp);\n",
    "inp := minus(inp,1);\n",
    "endwhile;\n",
    "write res;\n",
    "endmethod;\n",
    "\"\n",
    "\n",
    "let ex4 = \"method sum(inp) vars res\n",
    "begin\n",
    "res:=0;\n",
    "while less(0,inp)\n",
    "begin\n",
    "res := plus(res,inp);\n",
    "inp := minus(inp,1);\n",
    "endwhile;\n",
    "return res;\n",
    "endmethod;\n",
    "\n",
    "method main() vars inp,res\n",
    "begin\n",
    "read inp;\n",
    "res := sum(inp);\n",
    "write res;\n",
    "endmethod;\"\n",
    "\n",
    "let ex5 = \"method sum(inp) vars tmp\n",
    "begin\n",
    "if eq(inp,0) then\n",
    "res := inp;\n",
    "else\n",
    "tmp := sum(minus(inp,1));\n",
    "res := plus(tmp,inp);\n",
    "endif;\n",
    "endmethod;\n",
    "\n",
    "method main() vars inp,res\n",
    "begin\n",
    "read inp;\n",
    "res := sum(inp);\n",
    "write res;\n",
    "endmethod;\"\n",
    "\n",
    "let text_to_ast ex = parse_program (stream_to_list (Lexing.from_string ex))\n",
    "\n",
    "(* Compare with what you expect *)\n",
    "let parsed1 = text_to_ast ex1 \n",
    "let parsed2 = text_to_ast ex2\n",
    "let parsed3 = text_to_ast ex3\n",
    "let parsed4 = text_to_ast ex4\n",
    "let parsed5 = text_to_ast ex5"
   ]
  },
  {
   "cell_type": "code",
   "execution_count": null,
   "id": "84a52c0a",
   "metadata": {},
   "outputs": [],
   "source": []
  }
 ],
 "metadata": {
  "kernelspec": {
   "display_name": "OCaml 4.13",
   "language": "OCaml",
   "name": "ocaml-jupyter-4.13"
  },
  "language_info": {
   "codemirror_mode": "text/x-ocaml",
   "file_extension": ".ml",
   "mimetype": "text/x-ocaml",
   "name": "OCaml",
   "nbconverter_exporter": null,
   "pygments_lexer": "OCaml",
   "version": "4.13.1"
  }
 },
 "nbformat": 4,
 "nbformat_minor": 5
}
