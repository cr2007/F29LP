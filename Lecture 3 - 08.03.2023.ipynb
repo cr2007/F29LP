{
 "cells": [
  {
   "cell_type": "markdown",
   "id": "d9bef43c",
   "metadata": {},
   "source": [
    "# Manual Lexers"
   ]
  },
  {
   "cell_type": "code",
   "execution_count": 3,
   "id": "6a591291",
   "metadata": {},
   "outputs": [
    {
     "data": {
      "text/plain": [
       "type op = Plus | Minus | Mult | Div\n"
      ]
     },
     "execution_count": 3,
     "metadata": {},
     "output_type": "execute_result"
    },
    {
     "data": {
      "text/plain": [
       "type exp = Id of string | Numb of int | Op of exp * op * exp\n"
      ]
     },
     "execution_count": 3,
     "metadata": {},
     "output_type": "execute_result"
    }
   ],
   "source": [
    "type op = Plus | Minus | Mult | Div\n",
    "type exp = Id of string | Numb of int | Op of exp * op * exp"
   ]
  },
  {
   "cell_type": "code",
   "execution_count": 4,
   "id": "ea8d2d6e",
   "metadata": {},
   "outputs": [
    {
     "data": {
      "text/plain": [
       "type token = ONE | PLUS | MINUS | STAR | SLASH | LBRA | RBRA | EOF\n"
      ]
     },
     "execution_count": 4,
     "metadata": {},
     "output_type": "execute_result"
    }
   ],
   "source": [
    "type token = ONE\n",
    "        | PLUS | MINUS | STAR | SLASH\n",
    "        | LBRA | RBRA\n",
    "        | EOF"
   ]
  },
  {
   "cell_type": "markdown",
   "id": "fe128e9b",
   "metadata": {},
   "source": [
    "## Switch Case Statement\n",
    "\n",
    "Cases for each input case\\n\n",
    "for Plus, Minus, Multiplication, Division"
   ]
  },
  {
   "cell_type": "code",
   "execution_count": 18,
   "id": "6920bc0a",
   "metadata": {},
   "outputs": [
    {
     "data": {
      "text/plain": [
       "exception LexError\n"
      ]
     },
     "execution_count": 18,
     "metadata": {},
     "output_type": "execute_result"
    },
    {
     "name": "stderr",
     "output_type": "stream",
     "text": [
      "File \"[18]\", lines 6-15, characters 0-22:\n",
      " 6 | match cs with\n",
      " 7 | | [] -> (EOF,[])        (* Blank *)\n",
      " 8 | | '\\t'::cs | '\\n' :: cs | ' ' :: cs -> lex_step cs        (*  *)\n",
      " 9 | | '1'::cs -> (ONE,cs)   (* One *)\n",
      "10 | | '+'::cs -> (PLUS,cs)  (* Addition *)\n",
      "11 | | '-'::cs -> (MINUS,cs) (* Subtraction *)\n",
      "12 | | '*'::cs -> (STAR,cs)  (* Multiplication Case *)\n",
      "13 | | '/'::cs -> (SLASH,cs) (* Division Case *)\n",
      "14 | | '('::cs -> (LBRA,cs)  (* Left Bracket *)\n",
      "15 | | ')'::cs -> (RBRA,cs).....................\n",
      "Warning 8 [partial-match]: this pattern-matching is not exhaustive.\n",
      "Here is an example of a case that is not matched:\n",
      "'a'::_\n"
     ]
    },
    {
     "data": {
      "text/plain": [
       "val lex_step : char list -> token * char list = <fun>\n"
      ]
     },
     "execution_count": 18,
     "metadata": {},
     "output_type": "execute_result"
    }
   ],
   "source": [
    "(* Default Case (if no cases match) *)\n",
    "exception LexError\n",
    "\n",
    "(* Switch Case *)\n",
    "let rec lex_step (cs: char list) : token * char list = \n",
    "match cs with\n",
    "| [] -> (EOF,[])                                   (* Blank *)\n",
    "| '\\t'::cs | '\\n' :: cs | ' ' :: cs -> lex_step cs (* Tab, New Line, and Whitespace *)\n",
    "| '1'::cs -> (ONE,cs)                              (* One *)\n",
    "| '+'::cs -> (PLUS,cs)                             (* Addition *)\n",
    "| '-'::cs -> (MINUS,cs)                            (* Subtraction *)\n",
    "| '*'::cs -> (STAR,cs)                             (* Multiplication Case *)\n",
    "| '/'::cs -> (SLASH,cs)                            (* Division Case *)\n",
    "| '('::cs -> (LBRA,cs)                             (* Left Bracket *)\n",
    "| ')'::cs -> (RBRA,cs)                             (* Right Bracket *)\n",
    "(* cs = []\n",
    "   def lex_step (cs) *)"
   ]
  },
  {
   "cell_type": "code",
   "execution_count": 19,
   "id": "e9d8b379",
   "metadata": {},
   "outputs": [
    {
     "data": {
      "text/plain": [
       "- : int list = [1]\n"
      ]
     },
     "execution_count": 19,
     "metadata": {},
     "output_type": "execute_result"
    }
   ],
   "source": [
    "1::[]"
   ]
  },
  {
   "cell_type": "markdown",
   "id": "4ee72caf",
   "metadata": {},
   "source": [
    "## Implode and Explode Functions"
   ]
  },
  {
   "cell_type": "code",
   "execution_count": 20,
   "id": "6baa1949",
   "metadata": {},
   "outputs": [
    {
     "data": {
      "text/plain": [
       "val implode : char list -> string = <fun>\n"
      ]
     },
     "execution_count": 20,
     "metadata": {},
     "output_type": "execute_result"
    },
    {
     "data": {
      "text/plain": [
       "val explode : string -> char list = <fun>\n"
      ]
     },
     "execution_count": 20,
     "metadata": {},
     "output_type": "execute_result"
    }
   ],
   "source": [
    "let implode chars =\n",
    "    let buf = Buffer.create 16 in\n",
    "    List.iter (Buffer.add_char buf) chars;\n",
    "    Buffer.contents buf\n",
    "    \n",
    "let explode s = \n",
    "    let rec exp i l =\n",
    "        if i < 0 then l else exp (i - 1) (s.[i] :: l) in\n",
    "    exp (String.length s - 1) []"
   ]
  },
  {
   "cell_type": "code",
   "execution_count": 25,
   "id": "abffa947",
   "metadata": {},
   "outputs": [
    {
     "data": {
      "text/plain": [
       "- : token * char list = (ONE, [' '; '+'; ' '; '1'])\n"
      ]
     },
     "execution_count": 25,
     "metadata": {},
     "output_type": "execute_result"
    }
   ],
   "source": [
    "lex_step (explode \"1 + 1\")"
   ]
  },
  {
   "cell_type": "code",
   "execution_count": null,
   "id": "1c89063a",
   "metadata": {},
   "outputs": [],
   "source": []
  },
  {
   "cell_type": "code",
   "execution_count": 22,
   "id": "ad80ecf1",
   "metadata": {},
   "outputs": [
    {
     "data": {
      "text/plain": [
       "val lex : char list -> token list = <fun>\n"
      ]
     },
     "execution_count": 22,
     "metadata": {},
     "output_type": "execute_result"
    }
   ],
   "source": [
    "let rec lex cs =\n",
    "match lex_step cs with\n",
    "|(EOF,_)->[]\n",
    "|(t,cs)-> t:: lex cs"
   ]
  },
  {
   "cell_type": "code",
   "execution_count": 23,
   "id": "40704dc4",
   "metadata": {},
   "outputs": [
    {
     "data": {
      "text/plain": [
       "- : token list = [ONE; PLUS; ONE]\n"
      ]
     },
     "execution_count": 23,
     "metadata": {},
     "output_type": "execute_result"
    }
   ],
   "source": [
    "lex (explode \"1 + 1\")"
   ]
  },
  {
   "cell_type": "code",
   "execution_count": null,
   "id": "e4c132c0",
   "metadata": {},
   "outputs": [],
   "source": []
  }
 ],
 "metadata": {
  "kernelspec": {
   "display_name": "OCaml 4.13",
   "language": "OCaml",
   "name": "ocaml-jupyter-4.13"
  },
  "language_info": {
   "codemirror_mode": "text/x-ocaml",
   "file_extension": ".ml",
   "mimetype": "text/x-ocaml",
   "name": "OCaml",
   "nbconverter_exporter": null,
   "pygments_lexer": "OCaml",
   "version": "4.13.1"
  }
 },
 "nbformat": 4,
 "nbformat_minor": 5
}
