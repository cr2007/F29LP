{
 "cells": [
  {
   "cell_type": "markdown",
   "id": "68a562a5",
   "metadata": {
    "kernel": "SoS"
   },
   "source": [
    "# Lab 1 \n",
    "\n",
    "- It is recommended to **go through this file with a partner**. \n",
    "- Ensure to **ask** if anything is not clear - first your partner, then a lab helper.\n",
    "- You want to first go through the accompanying code of the lectures."
   ]
  },
  {
   "cell_type": "markdown",
   "id": "145c161e",
   "metadata": {
    "kernel": "SoS"
   },
   "source": [
    "## Ex. 1 - Different Phases\n",
    "\n",
    "You are given the following SIMP program: \n",
    "```\n",
    "VAR n; \n",
    "n := 5; \n",
    "WHILE n > 0 DO \n",
    "    BEGIN\n",
    "    PRINT n;\n",
    "    n := n - 1 \n",
    "    END\n",
    "```\n",
    "\n",
    "1. What does its lexical syntax look like on paper? \n",
    "Just the above as string.\n",
    "\n",
    "\n",
    "2. What does its phrasal syntax look like on paper? \n",
    "\n",
    "```\n",
    "   Var\n",
    "   ID \"n\"\n",
    "   SEMI\n",
    "   ID \"n\"\n",
    "   ASGN \n",
    "   INT 5\n",
    "   SEMI \n",
    "   WHILE\n",
    "   ID \"n\"\n",
    "   GT \n",
    "   INT 0 \n",
    "   DO \n",
    "   BEGIN \n",
    "   PRINT \n",
    "   ID \"n\"\n",
    "   SEMI \n",
    "   ID \"n\"\n",
    "   ASGN \n",
    "   ID \"n\"\n",
    "   MINUS\n",
    "   INT 1\n",
    "   END\n",
    "```\n",
    "                      \n",
    "\n",
    "3. What does its abstract syntax look like? (Both on paper and in OCaml!)\n",
    "\n",
    "E.g. (different ways of abstraction are possible!) \n",
    "\n",
    "```\n",
    "            program \n",
    "        /     |      \\\n",
    "declarations  ;     commands \n",
    "        |              /    \\ \n",
    "      VAR n         Asgn     While\n",
    "                   /  |       /   \\\n",
    "                 \"n\"  5      Gt    program \n",
    "                            / \\         |\n",
    "                          \"n\"  0      commands \n",
    "                                      /     \\\n",
    "                                    Print   Asgn \n",
    "                                     |       /   \\\n",
    "                                    \"n\"     \"n\"   -\n",
    "                                                 / \\\n",
    "                                              \"n\"   1\n",
    "```\n",
    "\n",
    "See below for representation in OCaml.                                              \n",
    "\n",
    "4. What does a corresponding assembler program look like on paper? (You can use ARM instructions or the MIPS instruction set: https://www.dsi.unive.it/~gasparetto/materials/MIPS_Instruction_Set.pdf - in the lecture, we will use the latter.\n",
    "You can test your program here: https://cpulator.01xz.net/?sys=mipsr5b-spim)\n",
    "\n",
    "Here's an example program in MIPS: \n",
    "```\n",
    ".set noreorder\n",
    ".data\n",
    ".text\n",
    "main:\n",
    "# Register for variable n\n",
    "li $16, 5\n",
    "WLOOP:\n",
    "li $t9, 0\n",
    "# Loop condition\n",
    "ble $16, $t9, WEND\n",
    "# Printing n by moving 1 into $2 and n into $4, and then using syscall\n",
    "li $2, 1\n",
    "move $4, $16\n",
    "syscall\n",
    "# n := n - 1\n",
    "li $t9, 1\n",
    "sub $16, $16, $t9\n",
    "j WLOOP\n",
    "WEND:\n",
    "# Ending the program\n",
    "li $2, 10\n",
    "syscall\n",
    "```\n"
   ]
  },
  {
   "cell_type": "code",
   "execution_count": 5,
   "id": "1b1fc868",
   "metadata": {
    "kernel": "OCaml 4.13"
   },
   "outputs": [
    {
     "data": {
      "text/plain": [
       "type op = Plus | Minus | Mult | Div\n"
      ]
     },
     "execution_count": 5,
     "metadata": {},
     "output_type": "execute_result"
    },
    {
     "data": {
      "text/plain": [
       "type exp = Id of string | Numb of int | Op of exp * op * exp\n"
      ]
     },
     "execution_count": 5,
     "metadata": {},
     "output_type": "execute_result"
    },
    {
     "data": {
      "text/plain": [
       "type cond = Eq | Neq | Lte | Lt | Gte | Gt\n"
      ]
     },
     "execution_count": 5,
     "metadata": {},
     "output_type": "execute_result"
    },
    {
     "data": {
      "text/plain": [
       "type condexp = Cop of exp * cond * exp\n"
      ]
     },
     "execution_count": 5,
     "metadata": {},
     "output_type": "execute_result"
    },
    {
     "data": {
      "text/plain": [
       "type cmd =\n",
       "    Asgn of string * exp\n",
       "  | Ite of condexp * cmd * cmd\n",
       "  | If of condexp * cmd\n",
       "  | While of condexp * cmd\n",
       "  | Begin of program\n",
       "  | Print of exp\n",
       "and program = Program of string list * cmd list\n"
      ]
     },
     "execution_count": 5,
     "metadata": {},
     "output_type": "execute_result"
    },
    {
     "data": {
      "text/plain": [
       "val p : program =\n",
       "  Program ([\"n\"],\n",
       "   [Asgn (\"n\", Numb 5);\n",
       "    While (Cop (Id \"n\", Gt, Numb 0),\n",
       "     Begin\n",
       "      (Program ([], [Print (Id \"n\"); Asgn (\"n\", Op (Id \"n\", Minus, Numb 1))])))])\n"
      ]
     },
     "execution_count": 5,
     "metadata": {},
     "output_type": "execute_result"
    }
   ],
   "source": [
    "type op = Plus | Minus | Mult | Div \n",
    "\n",
    "type exp = Id of string | Numb of int | Op of exp * op * exp \n",
    "\n",
    "type cond = Eq | Neq | Lte | Lt | Gte | Gt \n",
    "type condexp = Cop of exp * cond * exp\n",
    "                                          \n",
    "type cmd = Asgn of string * exp \n",
    "         | Ite of condexp * cmd * cmd | If of condexp * cmd \n",
    "         | While of condexp * cmd\n",
    "         | Begin of program \n",
    "         | Print of exp \n",
    "         \n",
    "and program = Program of string list * cmd list\n",
    "\n",
    "let p : program = Program ([\"n\"], [Asgn (\"n\", Numb 5); While (Cop (Id \"n\", Gt, Numb 0), Begin (Program ([], [Print (Id \"n\"); Asgn (\"n\", Op (Id \"n\", Minus, Numb 1))])))])"
   ]
  },
  {
   "cell_type": "markdown",
   "id": "33d1be7d",
   "metadata": {
    "kernel": "SoS"
   },
   "source": [
    "## Ex. 2 - Error Analysis \n",
    "\n",
    "When do the following errors appear - lexical analysis, syntactic analysis, semantic analysis, or during the interpreter/execution? Static or dynamic?\n",
    "\n",
    "Program 1 in SIMP: \n",
    "```\n",
    "VAR 1var;\n",
    "1var := 3\n",
    "```\n",
    "During syntactic analysis. \n",
    "For lexical analysis, we would get the following list of tokens: \n",
    "```\n",
    "VAR \n",
    "INT 1 \n",
    "ID \"var\"\n",
    "SEMI \n",
    "INT 1 \n",
    "ID \"var\"\n",
    "ASGN \n",
    "INT 3\n",
    "```\n",
    "\n",
    "\n",
    "Program 2 in SIMP: \n",
    "```\n",
    "VAR x\n",
    "```\n",
    "Syntactic anlysis - the grammar requires at least one command.\n",
    "\n",
    "Program 3 in SIMP: \n",
    "```\n",
    "VAR x;\n",
    "x = 2 + 3;\n",
    "```\n",
    "During syntactic analysis - something is expected after the semicolon.\n",
    "\n",
    "Program 4 in C: \n",
    "```\n",
    "char *cp = 'x';\n",
    "```\n",
    "Semantic analysis\n",
    "\n",
    "\n",
    "Program 5 in Java: \n",
    "```\n",
    "class X {\n",
    "  void increment() { ... }\n",
    "}\n",
    "\n",
    "X x = new X;\n",
    "x.decrement();\n",
    "```\n",
    "Semantic analysis (at compile-time)\n",
    "\n",
    "Program 6 in Python: \n",
    "```\n",
    "class X:\n",
    "  def increment(self):\n",
    "    ...\n",
    "\n",
    "x = X()\n",
    "x.decrement()\n",
    "```\n",
    "At runtime, a dynamic error."
   ]
  },
  {
   "cell_type": "markdown",
   "id": "f69791eb",
   "metadata": {
    "kernel": "OCaml 4.13"
   },
   "source": [
    "## Ex. 3 - Interpretation \n",
    "\n",
    "Below is the full code for the interpreter you saw in class for SIMP:"
   ]
  },
  {
   "cell_type": "code",
   "execution_count": 6,
   "id": "3914828a",
   "metadata": {
    "kernel": "OCaml 4.13"
   },
   "outputs": [
    {
     "data": {
      "text/plain": [
       "type op = Plus | Minus | Mult | Div\n"
      ]
     },
     "execution_count": 6,
     "metadata": {},
     "output_type": "execute_result"
    },
    {
     "data": {
      "text/plain": [
       "type exp = Id of string | Numb of int | Op of exp * op * exp | Neg of exp\n"
      ]
     },
     "execution_count": 6,
     "metadata": {},
     "output_type": "execute_result"
    },
    {
     "data": {
      "text/plain": [
       "type cond = Eq | Neq | Lte | Lt | Gte | Gt\n"
      ]
     },
     "execution_count": 6,
     "metadata": {},
     "output_type": "execute_result"
    },
    {
     "data": {
      "text/plain": [
       "type condexp = Cop of exp * cond * exp\n"
      ]
     },
     "execution_count": 6,
     "metadata": {},
     "output_type": "execute_result"
    },
    {
     "data": {
      "text/plain": [
       "type cmd =\n",
       "    Asgn of string * exp\n",
       "  | Ite of condexp * cmd * cmd\n",
       "  | If of condexp * cmd\n",
       "  | While of condexp * cmd\n",
       "  | Begin of program\n",
       "  | Print of exp\n",
       "  | DoWhile of cmd * condexp\n",
       "and program = Program of string list * cmd list\n"
      ]
     },
     "execution_count": 6,
     "metadata": {},
     "output_type": "execute_result"
    },
    {
     "data": {
      "text/plain": [
       "module Env :\n",
       "  sig\n",
       "    type key = String.t\n",
       "    type 'a t = 'a Map.Make(String).t\n",
       "    val empty : 'a t\n",
       "    val is_empty : 'a t -> bool\n",
       "    val mem : key -> 'a t -> bool\n",
       "    val add : key -> 'a -> 'a t -> 'a t\n",
       "    val update : key -> ('a option -> 'a option) -> 'a t -> 'a t\n",
       "    val singleton : key -> 'a -> 'a t\n",
       "    val remove : key -> 'a t -> 'a t\n",
       "    val merge :\n",
       "      (key -> 'a option -> 'b option -> 'c option) -> 'a t -> 'b t -> 'c t\n",
       "    val union : (key -> 'a -> 'a -> 'a option) -> 'a t -> 'a t -> 'a t\n",
       "    val compare : ('a -> 'a -> int) -> 'a t -> 'a t -> int\n",
       "    val equal : ('a -> 'a -> bool) -> 'a t -> 'a t -> bool\n",
       "    val iter : (key -> 'a -> unit) -> 'a t -> unit\n",
       "    val fold : (key -> 'a -> 'b -> 'b) -> 'a t -> 'b -> 'b\n",
       "    val for_all : (key -> 'a -> bool) -> 'a t -> bool\n",
       "    val exists : (key -> 'a -> bool) -> 'a t -> bool\n",
       "    val filter : (key -> 'a -> bool) -> 'a t -> 'a t\n",
       "    val filter_map : (key -> 'a -> 'b option) -> 'a t -> 'b t\n",
       "    val partition : (key -> 'a -> bool) -> 'a t -> 'a t * 'a t\n",
       "    val cardinal : 'a t -> int\n",
       "    val bindings : 'a t -> (key * 'a) list\n",
       "    val min_binding : 'a t -> key * 'a\n",
       "    val min_binding_opt : 'a t -> (key * 'a) option\n",
       "    val max_binding : 'a t -> key * 'a\n",
       "    val max_binding_opt : 'a t -> (key * 'a) option\n",
       "    val choose : 'a t -> key * 'a\n",
       "    val choose_opt : 'a t -> (key * 'a) option\n",
       "    val split : key -> 'a t -> 'a t * 'a option * 'a t\n",
       "    val find : key -> 'a t -> 'a\n",
       "    val find_opt : key -> 'a t -> 'a option\n",
       "    val find_first : (key -> bool) -> 'a t -> key * 'a\n",
       "    val find_first_opt : (key -> bool) -> 'a t -> (key * 'a) option\n",
       "    val find_last : (key -> bool) -> 'a t -> key * 'a\n",
       "    val find_last_opt : (key -> bool) -> 'a t -> (key * 'a) option\n",
       "    val map : ('a -> 'b) -> 'a t -> 'b t\n",
       "    val mapi : (key -> 'a -> 'b) -> 'a t -> 'b t\n",
       "    val to_seq : 'a t -> (key * 'a) Seq.t\n",
       "    val to_rev_seq : 'a t -> (key * 'a) Seq.t\n",
       "    val to_seq_from : key -> 'a t -> (key * 'a) Seq.t\n",
       "    val add_seq : (key * 'a) Seq.t -> 'a t -> 'a t\n",
       "    val of_seq : (key * 'a) Seq.t -> 'a t\n",
       "  end\n"
      ]
     },
     "execution_count": 6,
     "metadata": {},
     "output_type": "execute_result"
    },
    {
     "data": {
      "text/plain": [
       "val example_env : int Env.t = <abstr>\n"
      ]
     },
     "execution_count": 6,
     "metadata": {},
     "output_type": "execute_result"
    },
    {
     "data": {
      "text/plain": [
       "- : int = 3\n"
      ]
     },
     "execution_count": 6,
     "metadata": {},
     "output_type": "execute_result"
    },
    {
     "data": {
      "text/plain": [
       "exception RuntimeError of string\n"
      ]
     },
     "execution_count": 6,
     "metadata": {},
     "output_type": "execute_result"
    },
    {
     "data": {
      "text/plain": [
       "val eval : exp -> int Env.t -> int = <fun>\n"
      ]
     },
     "execution_count": 6,
     "metadata": {},
     "output_type": "execute_result"
    },
    {
     "data": {
      "text/plain": [
       "val eval_condexp : condexp -> int Env.t -> int = <fun>\n"
      ]
     },
     "execution_count": 6,
     "metadata": {},
     "output_type": "execute_result"
    },
    {
     "data": {
      "text/plain": [
       "val eval_cmd : cmd -> int Env.t -> int Env.t = <fun>\n",
       "val eval_program : program -> int Env.t -> int Env.t = <fun>\n",
       "val eval_commands : cmd list -> int Env.t -> int Env.t = <fun>\n"
      ]
     },
     "execution_count": 6,
     "metadata": {},
     "output_type": "execute_result"
    }
   ],
   "source": [
    "type op = Plus | Minus | Mult | Div \n",
    "\n",
    "type exp = Id of string | Numb of int | Op of exp * op * exp (* Start 3.1 *)| Neg of exp (* End 3.1 *)\n",
    "\n",
    "type cond = Eq | Neq | Lte | Lt | Gte | Gt \n",
    "type condexp = Cop of exp * cond * exp\n",
    "                                          \n",
    "type cmd = Asgn of string * exp \n",
    "         | Ite of condexp * cmd * cmd | If of condexp * cmd \n",
    "         | While of condexp * cmd\n",
    "         | Begin of program \n",
    "         | Print of exp \n",
    "         (* Exercise 3.2 *)\n",
    "         | DoWhile of cmd * condexp\n",
    "         \n",
    "and program = Program of string list * cmd list\n",
    "\n",
    "(* This will define maps with strings as key *)\n",
    "module Env = Map.Make(String)\n",
    "\n",
    "(* Env.empty denotes the empty environment. \n",
    "We can add elements to an environment via Env.add.\n",
    "This is the environment which only binds “a” to 3. *)\n",
    "let example_env = Env.add \"a\" 3 Env.empty;;\n",
    "\n",
    "(* We can look up elements in an environment via Env.find.\n",
    "Env.find throws an exception if the key does not exist.*)\n",
    "Env.find \"a\" example_env;;\n",
    "\n",
    "exception RuntimeError of string\n",
    "\n",
    "let rec eval (e : exp) env : int = match e with \n",
    "    | Id x -> Env.find x env \n",
    "    | Numb n -> n \n",
    "    | Op (e1, Plus, e2) -> eval e1 env + eval e2 env\n",
    "    | Op (e1, Minus, e2) -> eval e1 env - eval e2 env\n",
    "    | Op (e1, Mult, e2) -> eval e1 env * eval e2 env\n",
    "    | Op (e1, Div, e2) ->  (match (eval e2 env) with \n",
    "                          | 0 -> raise (RuntimeError \"Divison by 0\")\n",
    "                          | _ -> eval e1 env / eval e2 env)\n",
    "  (* 3.1 *)                        \n",
    "    | Neg e -> - (eval e env)                    \n",
    "                          \n",
    "let eval_condexp (e : condexp) env : int = match e with                          \n",
    "    | Cop (e1, Eq, e2) -> if (eval e1 env = eval e2 env) then 1 else 0\n",
    "    | Cop (e1, Neq, e2) -> if (eval e1 env = eval e2 env) then 0 else 1\n",
    "    | Cop (e1, Lte, e2) -> if (eval e1 env <= eval e2 env) then 1 else 0\n",
    "    | Cop (e1, Lt, e2) -> if (eval e1 env < eval e2 env) then 1 else 0\n",
    "    | Cop (e1, Gte, e2) -> if (eval e1 env >= eval e2 env) then 1 else 0\n",
    "    | Cop (e1, Gt, e2) -> if (eval e1 env > eval e2 env) then 1 else 0\n",
    "\n",
    "let rec eval_cmd (c : cmd) env  = match c with \n",
    "    | Asgn (x, e) -> Env.add x (eval e env) env\n",
    "    | If (e, c) -> (match (eval_condexp e env) with \n",
    "                        | 1 -> eval_cmd c env \n",
    "                        | 0 -> env\n",
    "                        | _ -> raise (RuntimeError \"Error in condition of If\")\n",
    "                        )\n",
    "    | Ite (e, c1, c2) -> (match (eval_condexp e env) with \n",
    "                        | 1 -> eval_cmd c1 env \n",
    "                        | 0 -> eval_cmd c2 env\n",
    "                        | _ -> raise (RuntimeError \"Error in condition of If\"))\n",
    "    | While (e, c) -> (match (eval_condexp e env) with \n",
    "                        | 1 -> eval_cmd (While (e, c)) (eval_cmd c env)\n",
    "                        | _ -> env)\n",
    "    | Begin p -> let _ = eval_program p env in env\n",
    "    | Print e -> let _ = print_endline (\"OUTPUT:\" ^ string_of_int (eval e env)) in env\n",
    "(* Exercise 3.2 *)\n",
    "    | DoWhile (c, e) -> (let env' = eval_cmd c env in \n",
    "                         match (eval_condexp e (eval_cmd c env)) with \n",
    "                         | 1 -> eval_cmd (DoWhile (c, e)) env'\n",
    "                         | _ -> env'\n",
    "                        )\n",
    "    \n",
    "    \n",
    "and eval_program p env = match p with \n",
    "    | Program (xs, cmds) -> eval_commands cmds Env.empty\n",
    "\n",
    "and eval_commands (cs : cmd list) env = match cs with \n",
    "    | [] -> env\n",
    "    | c :: cs -> eval_commands cs (eval_cmd c env)"
   ]
  },
  {
   "cell_type": "markdown",
   "id": "6ba9f7e0",
   "metadata": {
    "kernel": "OCaml 4.13"
   },
   "source": [
    "1. Extend expressions and the interpreter with a unary negation operator for integers, ``Neg``. \n",
    "Write an example of code and test that it evaluates correctly. "
   ]
  },
  {
   "cell_type": "code",
   "execution_count": 3,
   "id": "bc2b974b",
   "metadata": {
    "kernel": "OCaml 4.13"
   },
   "outputs": [
    {
     "data": {
      "text/plain": [
       "val e : exp = Op (Numb 3, Plus, Neg (Numb 5))\n"
      ]
     },
     "execution_count": 3,
     "metadata": {},
     "output_type": "execute_result"
    },
    {
     "data": {
      "text/plain": [
       "- : int = -2\n"
      ]
     },
     "execution_count": 3,
     "metadata": {},
     "output_type": "execute_result"
    }
   ],
   "source": [
    "(* Write an example expression *)\n",
    "\n",
    "let e = Op (Numb 3, Plus, Neg (Numb 5)) ;;\n",
    "\n",
    "eval e Env.empty;;"
   ]
  },
  {
   "cell_type": "markdown",
   "id": "c741ab89",
   "metadata": {
    "kernel": "OCaml 4.13"
   },
   "source": [
    "2. Extend commands with a ``DoWhile`` loop. \n",
    "\n",
    "See the following explanation of Wikipedia: \n",
    "*The do while construct consists of a process symbol and a condition. First the code within the block is executed. Then the condition is evaluated. If the condition is true the code within the block is executed again. This repeats until the condition becomes false.*\n",
    "\n",
    "Write an example of code and test that it evaluates correctly."
   ]
  },
  {
   "cell_type": "code",
   "execution_count": null,
   "id": "1b70d503",
   "metadata": {
    "kernel": "OCaml 4.13"
   },
   "outputs": [],
   "source": [
    "(* Write an example program *)\n",
    "\n",
    "let p = Program ([\"n\"], [Asgn (\"n\", Numb 0); DoWhile (Asgn (\"n\", Op (Id \"n\", Plus, Numb 1), )); Print (Id \"n\")]) ;;\n",
    "\n",
    "eval_program p Env.empty;;"
   ]
  },
  {
   "cell_type": "markdown",
   "id": "9a0ced0f",
   "metadata": {
    "kernel": "OCaml 4.13"
   },
   "source": [
    "3. Write a domain-specific language to manipulate Strings. \n",
    "\n",
    "You want to be able to: \n",
    "- Define variables of type String. \n",
    "- Concatenate Strings.\n",
    "- Print Strings.\n",
    "\n",
    "a.) Define a datatype ``string_exp`` of string expressions. \n",
    "   Your data type should contain: \n",
    "   - identifiers which represent strings.\n",
    "   - the empty string.\n",
    "   - string constants.\n",
    "   - a possibility to concatenate Strings.\n",
    "\n",
    "b.) Define a datatype ``string_stm`` of statements manipulating string variables. \n",
    "    They should contain:\n",
    "   - assignments \n",
    "   - the possibility to print a string\n",
    "   - the possibility to use several statements \n",
    "    \n",
    "c.) Define an interpreter for 1.) expressions, and 2.) statements.\n",
    "\n",
    "d.) (Optional - challenge) Build the possibility of Strings into ``Simp``. "
   ]
  },
  {
   "cell_type": "code",
   "execution_count": 12,
   "id": "92b5f507",
   "metadata": {
    "kernel": "OCaml 4.13"
   },
   "outputs": [
    {
     "data": {
      "text/plain": [
       "type string_exp =\n",
       "    IdString of string\n",
       "  | EmptyString\n",
       "  | ConstantString of string\n",
       "  | ConcatString of string_exp * string_exp\n"
      ]
     },
     "execution_count": 12,
     "metadata": {},
     "output_type": "execute_result"
    },
    {
     "data": {
      "text/plain": [
       "type string_cmd = Asgn of string * string_exp | Print of string_exp\n"
      ]
     },
     "execution_count": 12,
     "metadata": {},
     "output_type": "execute_result"
    },
    {
     "data": {
      "text/plain": [
       "type string_program = string_cmd list\n"
      ]
     },
     "execution_count": 12,
     "metadata": {},
     "output_type": "execute_result"
    },
    {
     "data": {
      "text/plain": [
       "val p : string_program =\n",
       "  [Asgn (\"x\", ConstantString \"hello\"); Asgn (\"y\", ConstantString \"world\");\n",
       "   Asgn (\"z\",\n",
       "    ConcatString (IdString \"x\", ConcatString (IdString \"y\", EmptyString)));\n",
       "   Print (IdString \"z\")]\n"
      ]
     },
     "execution_count": 12,
     "metadata": {},
     "output_type": "execute_result"
    },
    {
     "data": {
      "text/plain": [
       "val eval_string_exp : string_exp -> string Env.t -> string = <fun>\n"
      ]
     },
     "execution_count": 12,
     "metadata": {},
     "output_type": "execute_result"
    },
    {
     "data": {
      "text/plain": [
       "val eval_string_cmd : string_cmd -> string Env.t -> string Env.t = <fun>\n"
      ]
     },
     "execution_count": 12,
     "metadata": {},
     "output_type": "execute_result"
    },
    {
     "data": {
      "text/plain": [
       "val eval_string_program : string_cmd list -> string Env.t -> string Env.t =\n",
       "  <fun>\n"
      ]
     },
     "execution_count": 12,
     "metadata": {},
     "output_type": "execute_result"
    },
    {
     "name": "stdout",
     "output_type": "stream",
     "text": [
      "OUTPUT:helloworld\n"
     ]
    },
    {
     "data": {
      "text/plain": [
       "- : string Env.t = <abstr>\n"
      ]
     },
     "execution_count": 12,
     "metadata": {},
     "output_type": "execute_result"
    }
   ],
   "source": [
    "(* a) Defining a type of string expressions: \n",
    "- Variables will again use strings. \n",
    "- The empty string does not need any extra information. \n",
    "- ConstantString takes a string.\n",
    "- ConcatString takes as argument two string expressions.\n",
    "*)\n",
    "\n",
    "type string_exp = \n",
    "| IdString of string \n",
    "| EmptyString \n",
    "| ConstantString of string \n",
    "| ConcatString of string_exp * string_exp\n",
    "\n",
    "(* b) Assigments now assign variables to string expressions. \n",
    "      We print a string expression.\n",
    "      A program is a list of commands - hence giving us the possibility to execute several statements.\n",
    "*)\n",
    "type string_cmd = Asgn of string * string_exp \n",
    "         | Print of string_exp \n",
    "\n",
    "type string_program = string_cmd list\n",
    "\n",
    "(* An example program *)\n",
    "let p : string_program = [Asgn (\"x\", ConstantString \"hello\"); Asgn(\"y\", ConstantString \"world\"); \n",
    "    Asgn (\"z\", ConcatString (IdString \"x\", ConcatString (IdString \"y\", EmptyString))); Print (IdString \"z\")]\n",
    "\n",
    "\n",
    "(* c) This is very similar to the expression interpreter. \n",
    "    Note that again we use OCaml operations of string expressions.\n",
    "\n",
    "*)\n",
    "let rec eval_string_exp e env = match e with \n",
    "        | IdString x -> Env.find x env \n",
    "        | EmptyString -> \"\"\n",
    "        | ConstantString s -> s\n",
    "        | ConcatString (e1, e2) -> eval_string_exp e1 env ^ eval_string_exp e2 env \n",
    "        \n",
    "let rec eval_string_cmd c env = match c with \n",
    "    | Asgn (x, e) -> Env.add x (eval_string_exp e env) env\n",
    "    | Print e -> let _ = print_endline (\"OUTPUT:\" ^ (eval_string_exp e env)) in env\n",
    "    \n",
    "let rec eval_string_program cs env = match cs with \n",
    "    | [] -> env\n",
    "    | c :: cs -> let env' = eval_string_cmd c env in \n",
    "                  eval_string_program cs env';;\n",
    "                  \n",
    "(* Evaluating the example program *)                  \n",
    "eval_string_program p Env.empty     \n",
    "\n",
    "\n",
    "d) (* We don't provide solutions to challenges. \n",
    "Talk to us in the labs if you want to get a hint on the solution. *)"
   ]
  },
  {
   "cell_type": "markdown",
   "id": "65e21f24",
   "metadata": {
    "kernel": "OCaml 4.13"
   },
   "source": [
    "## Ex. 4 - Challenge\n",
    "\n",
    "Extend SIMP with unary function definitions: \n",
    "```\n",
    "\n",
    "type cmd = ... | FunctionDef of string (* function name *) \n",
    "                 * string (* arg name *) \n",
    "                 * cmd\n",
    "```\n",
    "\n",
    "and epxressions with a way to call a function: \n",
    "```\n",
    "\n",
    "type exp = ... | App of string (* function *) \n",
    "                        * exp (* argument *)\n",
    "```\n",
    "\n",
    "Define an interpreter for this extended language. "
   ]
  },
  {
   "cell_type": "code",
   "execution_count": null,
   "id": "55eb0e1e",
   "metadata": {
    "kernel": "OCaml 4.13"
   },
   "outputs": [],
   "source": [
    "(* Your code comes here *)\n",
    "\n",
    "(* We don't provide solutions to challenges. \n",
    "Talk to us in the labs if you want to get a hint on the solution. *)"
   ]
  }
 ],
 "metadata": {
  "kernelspec": {
   "display_name": "SoS",
   "language": "sos",
   "name": "sos"
  },
  "language_info": {
   "codemirror_mode": "sos",
   "file_extension": ".sos",
   "mimetype": "text/x-sos",
   "name": "sos",
   "nbconvert_exporter": "sos_notebook.converter.SoS_Exporter",
   "pygments_lexer": "sos"
  },
  "sos": {
   "kernels": [
    [
     "OCaml 4.13",
     "ocaml-jupyter-4.13",
     "OCaml",
     "",
     ""
    ],
    [
     "Python 3 (ipykernel)",
     "python3",
     "python3",
     "",
     {
      "name": "ipython",
      "version": 3
     }
    ],
    [
     "SoS",
     "sos",
     "",
     "",
     "sos"
    ]
   ],
   "panel": {
    "displayed": true,
    "height": 0
   },
   "version": "0.24.0"
  }
 },
 "nbformat": 4,
 "nbformat_minor": 5
}
