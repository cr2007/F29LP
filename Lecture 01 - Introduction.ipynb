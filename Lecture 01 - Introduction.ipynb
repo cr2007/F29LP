{
 "cells": [
  {
   "cell_type": "markdown",
   "id": "bb7847c0",
   "metadata": {
    "slideshow": {
     "slide_type": "slide"
    }
   },
   "source": [
    "# Lecture 01 - Introduction"
   ]
  },
  {
   "cell_type": "markdown",
   "id": "0c5ef7fd",
   "metadata": {
    "slideshow": {
     "slide_type": "slide"
    }
   },
   "source": [
    "In the first part of this lecture, you learned about formal languages: grammars, parsers, and finite state automata.\n",
    "In this part, we will see an **application area**: compilers and interpreters - and how to implement them. \n",
    "\n",
    "These notebooks are not complete -- please check the lecture slides for more information."
   ]
  },
  {
   "cell_type": "markdown",
   "id": "3451a225",
   "metadata": {},
   "source": [
    "## Stages of a Compiler\n",
    "\n",
    "Remember that we typically want to go from here \n",
    "\n",
    "```\n",
    "x := (3 + 4) + 5\n",
    "x + 2\n",
    "```\n",
    "\n",
    "to assembly code."
   ]
  },
  {
   "cell_type": "markdown",
   "id": "ecf34d02",
   "metadata": {},
   "source": [
    "### Lexical Syntax\n",
    "\n",
    "**Concrete syntax** represents the source code. \n",
    "This source code is usually represented as a list of characters. \n",
    "\n",
    "In OCaml, we represent the concrete syntax of an example program hence as a *string*:"
   ]
  },
  {
   "cell_type": "code",
   "execution_count": 1,
   "id": "b9b259a7",
   "metadata": {},
   "outputs": [
    {
     "data": {
      "text/plain": [
       "val source_code : string = \"x := (3 + 4) + 5\\nx + y\"\n"
      ]
     },
     "execution_count": 1,
     "metadata": {},
     "output_type": "execute_result"
    }
   ],
   "source": [
    "let source_code : string =\n",
    "\"x := (3 + 4) + 5\n",
    "x + y\""
   ]
  },
  {
   "cell_type": "markdown",
   "id": "a178da65",
   "metadata": {},
   "source": [
    "We will see relevant ``string`` functions in OCaml once we build our own lexers - for now, have a look at the OCaml documentation on strings  https://v2.ocaml.org/api/String.html if you want to know more."
   ]
  },
  {
   "cell_type": "markdown",
   "id": "deaebf1e",
   "metadata": {},
   "source": [
    "### Phrasal Syntax"
   ]
  },
  {
   "cell_type": "markdown",
   "id": "c00a4588",
   "metadata": {},
   "source": [
    "A lexer converts this list of characters into a list of **words**. \n",
    "We call these words **tokens**.\n",
    "\n",
    "We represent tokens as an **algebraic datatype**.\n",
    "If you require a quick reminder you can find some good explanation here: https://cs3110.github.io/textbook/chapters/data/variants.html and here: https://cs3110.github.io/textbook/chapters/data/algebraic_data_types.html. \n",
    "\n",
    "\n",
    "In our case, a token is  \n",
    "- either an identifer ``ID``, with a value of type ``string`` - written e.g. ``ID \"x\"`` for an identifer *x*,\n",
    "- or an integer ``INT``, with a value of type ``int`` - written e.g. ``INT 3`` \n",
    "- or an assignment sign, ``ASGN``, ``PLUS``, ``MINUS``, ``STAR``, ... \n",
    "- or the end-of file symbol ``EOF``, which represents that we arrived at the end of the file.\n",
    "\n",
    "With the representation as an algebraic data type a token can be **nothing else**."
   ]
  },
  {
   "cell_type": "code",
   "execution_count": 2,
   "id": "5715dab9",
   "metadata": {},
   "outputs": [
    {
     "data": {
      "text/plain": [
       "type token =\n",
       "    ID of string\n",
       "  | INT of int\n",
       "  | ASGN\n",
       "  | PLUS\n",
       "  | MINUS\n",
       "  | STAR\n",
       "  | SLASH\n",
       "  | LBRA\n",
       "  | RBRA\n",
       "  | EOF\n"
      ]
     },
     "execution_count": 2,
     "metadata": {},
     "output_type": "execute_result"
    }
   ],
   "source": [
    "type token = ID of string | INT of int\n",
    "           | ASGN\n",
    "           | PLUS  | MINUS | STAR | SLASH \n",
    "           | LBRA | RBRA | EOF"
   ]
  },
  {
   "cell_type": "markdown",
   "id": "785e27f0",
   "metadata": {},
   "source": [
    "A whole program is then a list of tokens.\n",
    "Recall lists of type 'a, ``'a list``, which can be either: \n",
    "- an empty list [] \n",
    "- a list ``x :: xs`` where ``x :: 'a`` and ``xs :: 'a list``. \n",
    "\n",
    "See here: https://cs3110.github.io/textbook/chapters/data/lists.html for a reminder."
   ]
  },
  {
   "cell_type": "code",
   "execution_count": 3,
   "id": "aff2b520",
   "metadata": {},
   "outputs": [
    {
     "data": {
      "text/plain": [
       "- : 'a list = []\n"
      ]
     },
     "execution_count": 3,
     "metadata": {},
     "output_type": "execute_result"
    },
    {
     "data": {
      "text/plain": [
       "- : int list = [2; 3]\n"
      ]
     },
     "execution_count": 3,
     "metadata": {},
     "output_type": "execute_result"
    },
    {
     "data": {
      "text/plain": [
       "- : int list = [2; 3]\n"
      ]
     },
     "execution_count": 3,
     "metadata": {},
     "output_type": "execute_result"
    }
   ],
   "source": [
    "[];; \n",
    "\n",
    "2 :: 3 :: [];; \n",
    "\n",
    "[2; 3]"
   ]
  },
  {
   "cell_type": "markdown",
   "id": "18533ff8",
   "metadata": {},
   "source": [
    "E.g., the previous program would be translated into the following list of tokens: "
   ]
  },
  {
   "cell_type": "code",
   "execution_count": 4,
   "id": "a9830452",
   "metadata": {},
   "outputs": [
    {
     "data": {
      "text/plain": [
       "val phrasal_syntax : token list =\n",
       "  [ID \"x\"; ASGN; LBRA; INT 3; PLUS; INT 4; RBRA; PLUS; INT 5; ID \"X\"; PLUS;\n",
       "   INT 2; EOF]\n"
      ]
     },
     "execution_count": 4,
     "metadata": {},
     "output_type": "execute_result"
    }
   ],
   "source": [
    "let phrasal_syntax : token list =\n",
    "[ID \"x\"; ASGN; LBRA; INT 3; PLUS; INT 4; RBRA; PLUS; INT 5; ID \"X\"; PLUS; INT 2; EOF]   "
   ]
  },
  {
   "cell_type": "markdown",
   "id": "db4d0e30",
   "metadata": {},
   "source": [
    "### Abstract Syntax"
   ]
  },
  {
   "cell_type": "markdown",
   "id": "c898c73a",
   "metadata": {},
   "source": [
    "Even lists of tokens are not easy to analyse. \n",
    "Instead, a program is typically represented by a syntax tree. \n",
    "\n",
    "Again, we represent them as abstract data types."
   ]
  },
  {
   "cell_type": "code",
   "execution_count": 5,
   "id": "88d39fcd",
   "metadata": {},
   "outputs": [
    {
     "data": {
      "text/plain": [
       "type op = Plus | Minus | Mult | Div\n"
      ]
     },
     "execution_count": 5,
     "metadata": {},
     "output_type": "execute_result"
    },
    {
     "data": {
      "text/plain": [
       "type exp = Id of string | Numb of int | Op of exp * op * exp\n"
      ]
     },
     "execution_count": 5,
     "metadata": {},
     "output_type": "execute_result"
    },
    {
     "data": {
      "text/plain": [
       "type cmd = Asgn of string * exp\n"
      ]
     },
     "execution_count": 5,
     "metadata": {},
     "output_type": "execute_result"
    },
    {
     "data": {
      "text/plain": [
       "type program = cmd list * exp\n"
      ]
     },
     "execution_count": 5,
     "metadata": {},
     "output_type": "execute_result"
    }
   ],
   "source": [
    "type op = Plus | Minus | Mult | Div \n",
    "type exp = Id of string | Numb of int | Op of exp * op * exp \n",
    "type cmd = Asgn of string * exp \n",
    "type program = cmd list * exp"
   ]
  },
  {
   "cell_type": "markdown",
   "id": "6416e053",
   "metadata": {},
   "source": [
    "Note that this time, expressions can refer to expressions themselves. \n",
    "\n",
    "E.g., we can represent the previous program as:"
   ]
  },
  {
   "cell_type": "code",
   "execution_count": 9,
   "id": "14a8caaa",
   "metadata": {},
   "outputs": [
    {
     "data": {
      "text/plain": [
       "val abstract_syntax : program =\n",
       "  ([Asgn (\"x\", Op (Op (Numb 3, Plus, Numb 4), Plus, Numb 5))],\n",
       "   Op (Id \"x\", Plus, Numb 2))\n"
      ]
     },
     "execution_count": 9,
     "metadata": {},
     "output_type": "execute_result"
    }
   ],
   "source": [
    "let abstract_syntax : program = \n",
    "([Asgn (\"x\", Op (Op (Numb 3, Plus, Numb 4), Plus, Numb 5))], Op (Id \"x\", Plus, Numb 2))"
   ]
  },
  {
   "cell_type": "markdown",
   "id": "61419662",
   "metadata": {},
   "source": [
    "### Code Generator\n",
    "\n",
    "Lastly, we want to output machine instructions. \n",
    "For the above problem this could look as the following code in MIPS assembly. \n",
    "\n",
    "This representation will require a little bit more work - but, in gneneral we represent MIPS instructions again via abstract data types: "
   ]
  },
  {
   "cell_type": "code",
   "execution_count": 11,
   "id": "a924789d",
   "metadata": {},
   "outputs": [
    {
     "data": {
      "text/plain": [
       "type register = int\n"
      ]
     },
     "execution_count": 11,
     "metadata": {},
     "output_type": "execute_result"
    },
    {
     "data": {
      "text/plain": [
       "val t8 : int = 24\n"
      ]
     },
     "execution_count": 11,
     "metadata": {},
     "output_type": "execute_result"
    },
    {
     "data": {
      "text/plain": [
       "val t9 : int = 25\n"
      ]
     },
     "execution_count": 11,
     "metadata": {},
     "output_type": "execute_result"
    },
    {
     "data": {
      "text/plain": [
       "type instruction =\n",
       "    Li of register * int\n",
       "  | Push of register\n",
       "  | AddiR of register * register * register\n"
      ]
     },
     "execution_count": 11,
     "metadata": {},
     "output_type": "execute_result"
    },
    {
     "data": {
      "text/plain": [
       "type code = instruction list\n"
      ]
     },
     "execution_count": 11,
     "metadata": {},
     "output_type": "execute_result"
    },
    {
     "data": {
      "text/plain": [
       "val example_code : instruction list = [Li (24, 3); Push 24]\n"
      ]
     },
     "execution_count": 11,
     "metadata": {},
     "output_type": "execute_result"
    }
   ],
   "source": [
    "type register = int\n",
    "\n",
    "let t8 = 24 (* $t8 *)\n",
    "let t9 = 25 (* $t9 *)\n",
    "\n",
    "type instruction = Li of register * int \n",
    "            | Push of register\n",
    "            | AddiR of register * register * register\n",
    "            (* ... | and many more instructions *)\n",
    "\n",
    "type code = instruction list\n",
    "\n",
    "let example_code = [Li (t8, 3); Push t8] (* ... further instructions to come... *)"
   ]
  },
  {
   "cell_type": "code",
   "execution_count": null,
   "id": "27c072f0",
   "metadata": {},
   "outputs": [],
   "source": []
  }
 ],
 "metadata": {
  "kernelspec": {
   "display_name": "OCaml 4.13",
   "language": "OCaml",
   "name": "ocaml-jupyter-4.13"
  },
  "language_info": {
   "codemirror_mode": "text/x-ocaml",
   "file_extension": ".ml",
   "mimetype": "text/x-ocaml",
   "name": "OCaml",
   "nbconverter_exporter": null,
   "pygments_lexer": "OCaml",
   "version": "4.13.1"
  }
 },
 "nbformat": 4,
 "nbformat_minor": 5
}
