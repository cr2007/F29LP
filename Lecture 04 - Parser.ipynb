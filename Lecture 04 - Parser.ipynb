{
 "cells": [
  {
   "cell_type": "markdown",
   "id": "44d472ac",
   "metadata": {},
   "source": [
    "# Lecture 4 - Parsers"
   ]
  },
  {
   "attachments": {},
   "cell_type": "markdown",
   "id": "807e4d1b",
   "metadata": {},
   "source": [
    "See below the code for an easy recognizer for the grammar \n",
    "\n",
    "```\n",
    "A ::= id | B\n",
    "B ::= int | (A)\n",
    "```"
   ]
  },
  {
   "cell_type": "code",
   "execution_count": 8,
   "id": "cec6d0d6",
   "metadata": {},
   "outputs": [
    {
     "data": {
      "text/plain": [
       "type token = ID of string | INT of int | LBRA | RBRA | EOF\n"
      ]
     },
     "execution_count": 8,
     "metadata": {},
     "output_type": "execute_result"
    },
    {
     "data": {
      "text/plain": [
       "exception SyntaxError of string\n"
      ]
     },
     "execution_count": 8,
     "metadata": {},
     "output_type": "execute_result"
    },
    {
     "data": {
      "text/plain": [
       "val parseA : token list -> token list = <fun>\n",
       "val parseB : token list -> token list = <fun>\n"
      ]
     },
     "execution_count": 8,
     "metadata": {},
     "output_type": "execute_result"
    }
   ],
   "source": [
    "type token = ID of string | INT of int | LBRA | RBRA | EOF\n",
    "\n",
    "exception SyntaxError of string\n",
    "\n",
    "let rec parseA (ts : token list) : token list = \n",
    "    match ts with \n",
    "    | ID x :: ts' -> ts'\n",
    "    | _ -> parseB ts\n",
    "    \n",
    "and parseB (ts: token list) : token list = \n",
    "    match ts with\n",
    "    | INT x :: ts' -> ts'\n",
    "    | LBRA :: ts' -> (let ts'' = parseA ts'\n",
    "                       in (match ts'' with \n",
    "                           | RBRA :: ts''' -> ts'''\n",
    "                           | _ -> raise (SyntaxError \"Expected RBRA.\")\n",
    "                           ))\n",
    "    | _ -> raise (SyntaxError \"Expected INT or LBRA\") "
   ]
  },
  {
   "cell_type": "markdown",
   "id": "2850916f",
   "metadata": {},
   "source": [
    "This is easily extended to a full parser which also yields a parse tree: "
   ]
  },
  {
   "cell_type": "code",
   "execution_count": 9,
   "id": "21db7dad",
   "metadata": {},
   "outputs": [
    {
     "data": {
      "text/plain": [
       "type parsetree =\n",
       "    A1 of token\n",
       "  | A2 of parsetree\n",
       "  | B1 of token\n",
       "  | B2 of token * parsetree * token\n"
      ]
     },
     "execution_count": 9,
     "metadata": {},
     "output_type": "execute_result"
    },
    {
     "data": {
      "text/plain": [
       "val parseA : token list -> token list * parsetree = <fun>\n",
       "val parseB : token list -> token list * parsetree = <fun>\n"
      ]
     },
     "execution_count": 9,
     "metadata": {},
     "output_type": "execute_result"
    }
   ],
   "source": [
    "type parsetree = A1 of token | A2 of parsetree | B1 of token | B2 of token * parsetree * token \n",
    "\n",
    "let rec parseA (ts : token list) : token list * parsetree = \n",
    "    match ts with \n",
    "    | ID x :: ts' -> (ts', A1 (ID x))\n",
    "    | _ -> let (ts',ast) = parseB ts\n",
    "           in (ts', A2 ast)\n",
    "    \n",
    "and parseB (ts: token list) : token list * parsetree = \n",
    "    match ts with\n",
    "    | INT x :: ts' -> (ts', B1 (INT x))\n",
    "    | LBRA :: ts' -> (let (ts'', ast) = parseA ts'\n",
    "                       in (match ts'' with \n",
    "                           | RBRA :: ts''' -> (ts''', B2 (LBRA, ast, RBRA))\n",
    "                           | _ -> raise (SyntaxError \"Expected RPAREN.\")\n",
    "                           ))\n",
    "    | _ -> raise (SyntaxError \"Expected INT or LBRA\") "
   ]
  }
 ],
 "metadata": {
  "kernelspec": {
   "display_name": "OCaml 4.13",
   "language": "OCaml",
   "name": "ocaml-jupyter-4.13"
  },
  "language_info": {
   "codemirror_mode": "text/x-ocaml",
   "file_extension": ".ml",
   "mimetype": "text/x-ocaml",
   "name": "OCaml",
   "nbconverter_exporter": null,
   "pygments_lexer": "OCaml",
   "version": "4.13.1"
  }
 },
 "nbformat": 4,
 "nbformat_minor": 5
}
